{
 "cells": [
  {
   "cell_type": "code",
   "execution_count": 8,
   "metadata": {},
   "outputs": [
    {
     "data": {
      "text/plain": [
       "'2.0.0'"
      ]
     },
     "execution_count": 8,
     "metadata": {},
     "output_type": "execute_result"
    }
   ],
   "source": [
    "import tensorflow as tf\n",
    "import numpy as np\n",
    "import matplotlib.pyplot as plt\n",
    "from datasets import MNISTDataset\n",
    "tf.__version__"
   ]
  },
  {
   "cell_type": "code",
   "execution_count": 9,
   "metadata": {},
   "outputs": [
    {
     "name": "stdout",
     "output_type": "stream",
     "text": [
      "0\n",
      "255\n",
      "(128, 784)\n",
      "(128,)\n"
     ]
    },
    {
     "data": {
      "image/png": "[encoded data removed]",
      "text/plain": [
       "<Figure size 432x288 with 1 Axes>"
      ]
     },
     "metadata": {
      "needs_background": "light"
     },
     "output_type": "display_data"
    }
   ],
   "source": [
    "mnist = tf.keras.datasets.mnist\n",
    "(train_images, train_labels), (test_images, test_labels) = mnist.load_data()\n",
    "\n",
    "plt.imshow(train_images[1], cmap=\"Greys_r\")\n",
    "print(train_labels[1])\n",
    "print(train_images.max())\n",
    "\n",
    "data = MNISTDataset(train_images.reshape([-1, 784]), train_labels, \n",
    "                    test_images.reshape([-1, 784]), test_labels,\n",
    "                    batch_size=128)\n",
    "print(data.next_batch()[0].shape)\n",
    "print(data.next_batch()[1].shape)\n",
    "\n"
   ]
  },
  {
   "cell_type": "code",
   "execution_count": 10,
   "metadata": {},
   "outputs": [],
   "source": [
    "train_steps = 1000\n",
    "learning_rate = 0.1\n",
    "n_hidden_1 = 256\n",
    "n_hidden_2 = 256\n",
    "n_input = 784\n",
    "n_classes = 10\n",
    "\n",
    "\n",
    "\n",
    "h1 = tf.Variable(np.random.uniform( low =-0.1, high = 0.1, size=[n_input, n_hidden_1]).astype(np.float32))\n",
    "h2 = tf.Variable(np.random.uniform(low =-0.1, high = 0.1, size=[n_hidden_1, n_hidden_2]).astype(np.float32))\n",
    "h_out = tf.Variable(np.random.uniform(low =-0.1, high = 0.1, size =[n_hidden_2, n_classes]).astype(np.float32))\n",
    "\n",
    "\n",
    "b1 = tf.Variable(tf.random.normal([n_hidden_1]))\n",
    "b2 = tf.Variable(tf.random.normal([n_hidden_2]))\n",
    "b_out = tf.Variable(tf.random.normal([n_classes]))\n",
    "\n",
    "\n",
    "weights = [h1, h2, h_out]\n",
    "biases = [b1, b2, b_out]\n",
    "\n"
   ]
  },
  {
   "cell_type": "code",
   "execution_count": 19,
   "metadata": {},
   "outputs": [
    {
     "name": "stdout",
     "output_type": "stream",
     "text": [
      "Loss: 0.21026884019374847 Accuracy: 0.90625\n",
      "Accuracy: 92%\n",
      "Loss: 0.20599861443042755 Accuracy: 0.9609375\n",
      "Accuracy: 92%\n",
      "Loss: 0.4131777584552765 Accuracy: 0.890625\n",
      "Accuracy: 92%\n",
      "Starting new epoch...\n",
      "Loss: 0.27416178584098816 Accuracy: 0.9296875\n",
      "Accuracy: 92%\n",
      "Loss: 0.212630957365036 Accuracy: 0.9296875\n",
      "Accuracy: 92%\n",
      "Loss: 0.3723791539669037 Accuracy: 0.90625\n",
      "Accuracy: 92%\n",
      "Loss: 0.24592708051204681 Accuracy: 0.9375\n",
      "Accuracy: 92%\n",
      "Starting new epoch...\n",
      "Loss: 0.2546956241130829 Accuracy: 0.921875\n",
      "Accuracy: 92%\n",
      "Loss: 0.23238928616046906 Accuracy: 0.921875\n",
      "Accuracy: 92%\n",
      "Loss: 0.40789711475372314 Accuracy: 0.9140625\n",
      "Accuracy: 92%\n"
     ]
    }
   ],
   "source": [
    "losses = []\n",
    "accs = []\n",
    "for step in range(train_steps):\n",
    "    img_batch, lbl_batch = data.next_batch()\n",
    "    with tf.GradientTape() as tape:\n",
    "        layer_1 = tf.add(tf.matmul(img_batch, weights[0]), biases[0])\n",
    "        layer_2 = tf.add(tf.matmul(layer_1, weights[1]), biases[1])\n",
    "        logits = tf.matmul(layer_2,weights[2] ) + biases[2]\n",
    "        xent = tf.reduce_mean(tf.nn.sparse_softmax_cross_entropy_with_logits(\n",
    "            logits=logits, labels=lbl_batch))\n",
    "    var_list = [h1,h2,h_out,b1,b2,b_out]\n",
    "    grads = tape.gradient(xent, var_list)\n",
    "    h1 = h1.assign_sub(learning_rate * grads[0])\n",
    "    h2 = h2.assign_sub(learning_rate * grads[1])\n",
    "    h_out = h_out.assign_sub(learning_rate * grads[2])\n",
    "    b1 = b1.assign_sub(learning_rate * grads[3])\n",
    "    b2 = b2.assign_sub(learning_rate * grads[4])\n",
    "    b_out = b_out.assign_sub(learning_rate * grads[5])\n",
    "    \n",
    "    if not step % 100:\n",
    "        preds = tf.argmax(logits, axis=1, output_type=tf.int32)\n",
    "        acc = tf.reduce_mean(tf.cast(tf.equal(preds, lbl_batch),\n",
    "                             tf.float32))\n",
    "        losses.append(xent)\n",
    "        accs.append(acc)\n",
    "        print(\"Loss: {} Accuracy: {}\".format(xent, acc))\n",
    "        test_layer1 = tf.add(tf.matmul(data.test_data, h1), b1)\n",
    "        test_layer2 = tf.add(tf.matmul(test_layer1, h2), b2)\n",
    "        test_out = tf.matmul(test_layer2, h_out) + b_out\n",
    "        test_preds = tf.argmax(test_out, axis=1, output_type=tf.int32)\n",
    "        test_acc = tf.reduce_mean(tf.cast(tf.equal(test_preds, data.test_labels),\n",
    "                                     tf.float32))\n",
    "        print('Accuracy: ', end='')\n",
    "        print(int(test_acc.numpy()*100), end='')\n",
    "        print(\"%\")"
   ]
  },
  {
   "cell_type": "code",
   "execution_count": 20,
   "metadata": {},
   "outputs": [
    {
     "name": "stdout",
     "output_type": "stream",
     "text": [
      "Accuracy: 92%\n"
     ]
    }
   ],
   "source": [
    "test_layer1 = tf.add(tf.matmul(data.test_data, h1), b1)\n",
    "test_layer2 = tf.add(tf.matmul(test_layer1, h2), b2)\n",
    "test_out = tf.matmul(test_layer2, h_out) + b_out\n",
    "test_preds = tf.argmax(test_out, axis=1, output_type=tf.int32)\n",
    "test_acc = tf.reduce_mean(tf.cast(tf.equal(test_preds, data.test_labels),\n",
    "                             tf.float32))\n",
    "print('Accuracy: ', end='')\n",
    "print(int(test_acc.numpy()*100), end='')\n",
    "print(\"%\")"
   ]
  },
  {
   "cell_type": "code",
   "execution_count": 21,
   "metadata": {},
   "outputs": [
    {
     "data": {
      "image/png": "[encoded data removed]",
      "text/plain": [
       "<Figure size 432x288 with 1 Axes>"
      ]
     },
     "metadata": {
      "needs_background": "light"
     },
     "output_type": "display_data"
    }
   ],
   "source": [
    "plt.plot(losses, \"r\", label = 'loss')\n",
    "plt.plot(accs, \"g\", label = 'accuracy')\n",
    "plt.plot(test_acc, \"*\", label = 'test accuracy')\n",
    "plt.legend(loc = 'upper right')\n",
    "plt.show()\n"
   ]
  },
  {
   "cell_type": "markdown",
   "metadata": {},
   "source": [
    "# Fashion MNIST"
   ]
  },
  {
   "cell_type": "code",
   "execution_count": 22,
   "metadata": {},
   "outputs": [],
   "source": [
    "import tensorflow as tf\n",
    "import numpy as np\n",
    "import pandas as pd\n",
    "import matplotlib.pyplot as plt\n",
    "from datasets import MNISTDataset"
   ]
  },
  {
   "cell_type": "code",
   "execution_count": 36,
   "metadata": {},
   "outputs": [
    {
     "name": "stdout",
     "output_type": "stream",
     "text": [
      "255\n",
      "9\n"
     ]
    },
    {
     "data": {
      "image/png": "[encoded data removed]",
      "text/plain": [
       "<Figure size 432x288 with 1 Axes>"
      ]
     },
     "metadata": {
      "needs_background": "light"
     },
     "output_type": "display_data"
    }
   ],
   "source": [
    "mnist = tf.keras.datasets.fashion_mnist\n",
    "(train_images, train_labels), (test_images, test_labels) = data.load_data()\n",
    "data = MNISTDataset(train_images.reshape([-1, 784]), train_labels,\n",
    "                    test_images.reshape([-1, 784]), test_labels,\n",
    "                    batch_size = 128)\n",
    "print(train_images.max())\n",
    "plt.imshow(train_images[15], cmap=\"Greys_r\")\n",
    "print(train_labels[15])"
   ]
  },
  {
   "cell_type": "markdown",
   "metadata": {},
   "source": [
    "# Setting Up Parameters: "
   ]
  },
  {
   "cell_type": "code",
   "execution_count": 22,
   "metadata": {},
   "outputs": [],
   "source": [
    "train_steps = 20000\n",
    "learning_rate = 1e-4\n",
    "n_input = 28*28\n",
    "n_hidden_1 = 1024\n",
    "n_hidden_2 = 512\n",
    "n_hidden_3 = 256\n",
    "n_hidden_4 = 128\n",
    "n_classes = 10"
   ]
  },
  {
   "cell_type": "markdown",
   "metadata": {},
   "source": [
    "# Weights and Biases:"
   ]
  },
  {
   "cell_type": "code",
   "execution_count": 23,
   "metadata": {},
   "outputs": [],
   "source": [
    "h1 = tf.Variable(np.random.uniform( low =-0.1, high = 0.1, size=[n_input, n_hidden_1]).astype(np.float32))\n",
    "h2 = tf.Variable(np.random.uniform(low =-0.1, high = 0.1, size=[n_hidden_1, n_hidden_2]).astype(np.float32))\n",
    "h3 = tf.Variable(np.random.uniform(low =-0.1, high = 0.1, size =[n_hidden_2, n_hidden_3]).astype(np.float32))\n",
    "h4 = tf.Variable(np.random.uniform(low =-0.1, high = 0.1, size =[n_hidden_3, n_hidden_4]).astype(np.float32))\n",
    "h_out = tf.Variable(np.random.uniform(low =-0.1, high = 0.1, size =[n_hidden_4, n_classes]).astype(np.float32))\n",
    "\n",
    "\n",
    "b1 = tf.Variable(tf.random.normal([n_hidden_1]))\n",
    "b2 = tf.Variable(tf.random.normal([n_hidden_2]))\n",
    "b3 = tf.Variable(tf.random.normal([n_hidden_3]))\n",
    "b4 = tf.Variable(tf.random.normal([n_hidden_4]))\n",
    "b_out = tf.Variable(tf.random.normal([n_classes]))\n",
    "\n",
    "\n",
    "weights = [h1, h2, h3, h4, h_out]\n",
    "biases = [b1, b2, b3, b4, b_out]"
   ]
  },
  {
   "cell_type": "markdown",
   "metadata": {},
   "source": [
    "# Building the Neural Network:"
   ]
  },
  {
   "cell_type": "code",
   "execution_count": 24,
   "metadata": {},
   "outputs": [
    {
     "name": "stdout",
     "output_type": "stream",
     "text": [
      "Loss: 3.4389069080352783 Accuracy: 0.125\n",
      "Loss: 2.5017664432525635 Accuracy: 0.078125\n",
      "Starting new epoch...\n",
      "Loss: 2.3331797122955322 Accuracy: 0.1171875\n",
      "Loss: 2.284193754196167 Accuracy: 0.140625\n",
      "Loss: 2.0204594135284424 Accuracy: 0.2890625\n",
      "Loss: 2.013874053955078 Accuracy: 0.3046875\n",
      "Loss: 1.9375674724578857 Accuracy: 0.3515625\n",
      "Starting new epoch...\n",
      "Loss: 1.9077236652374268 Accuracy: 0.3359375\n",
      "Loss: 1.8823491334915161 Accuracy: 0.34375\n",
      "Loss: 1.7500579357147217 Accuracy: 0.484375\n",
      "Loss: 1.667014479637146 Accuracy: 0.453125\n",
      "Starting new epoch...\n",
      "Loss: 1.6585707664489746 Accuracy: 0.421875\n",
      "Loss: 1.6001203060150146 Accuracy: 0.546875\n",
      "Loss: 1.5928500890731812 Accuracy: 0.5390625\n",
      "Loss: 1.5028314590454102 Accuracy: 0.5703125\n",
      "Loss: 1.4403910636901855 Accuracy: 0.578125\n",
      "Starting new epoch...\n",
      "Loss: 1.4397088289260864 Accuracy: 0.5625\n",
      "Loss: 1.3451690673828125 Accuracy: 0.6015625\n",
      "Loss: 1.2413398027420044 Accuracy: 0.671875\n",
      "Loss: 1.3296682834625244 Accuracy: 0.6171875\n",
      "Loss: 1.3077501058578491 Accuracy: 0.71875\n",
      "Starting new epoch...\n",
      "Loss: 1.243787169456482 Accuracy: 0.6796875\n",
      "Loss: 1.1872076988220215 Accuracy: 0.7265625\n",
      "Loss: 1.149665117263794 Accuracy: 0.6640625\n",
      "Loss: 1.120262861251831 Accuracy: 0.71875\n",
      "Loss: 1.1757338047027588 Accuracy: 0.6875\n",
      "Starting new epoch...\n",
      "Loss: 1.0865135192871094 Accuracy: 0.7265625\n",
      "Loss: 1.0752302408218384 Accuracy: 0.7578125\n",
      "Loss: 1.0345866680145264 Accuracy: 0.71875\n",
      "Loss: 1.0133172273635864 Accuracy: 0.7265625\n",
      "Starting new epoch...\n",
      "Loss: 1.0310944318771362 Accuracy: 0.7109375\n",
      "Loss: 0.9961216449737549 Accuracy: 0.796875\n",
      "Loss: 0.9555094242095947 Accuracy: 0.75\n",
      "Loss: 0.9873214364051819 Accuracy: 0.7890625\n",
      "Loss: 0.8943641185760498 Accuracy: 0.828125\n",
      "Starting new epoch...\n",
      "Loss: 0.9978280663490295 Accuracy: 0.7265625\n",
      "Loss: 0.8906530737876892 Accuracy: 0.78125\n",
      "Loss: 0.9181947112083435 Accuracy: 0.765625\n",
      "Loss: 0.8349615335464478 Accuracy: 0.765625\n",
      "Loss: 0.9192341566085815 Accuracy: 0.796875\n",
      "Starting new epoch...\n",
      "Loss: 0.8387013673782349 Accuracy: 0.7734375\n",
      "Loss: 0.8595119714736938 Accuracy: 0.765625\n",
      "Loss: 0.8898893594741821 Accuracy: 0.7890625\n",
      "Loss: 0.8219455480575562 Accuracy: 0.7890625\n",
      "Starting new epoch...\n",
      "Loss: 0.8166148662567139 Accuracy: 0.828125\n",
      "Loss: 0.9363889098167419 Accuracy: 0.7578125\n",
      "Loss: 0.7063031196594238 Accuracy: 0.8671875\n",
      "Loss: 0.8819427490234375 Accuracy: 0.7578125\n",
      "Loss: 0.860622227191925 Accuracy: 0.765625\n",
      "Starting new epoch...\n",
      "Loss: 0.7673120498657227 Accuracy: 0.796875\n",
      "Loss: 0.7030342817306519 Accuracy: 0.859375\n",
      "Loss: 0.7359628677368164 Accuracy: 0.8203125\n",
      "Loss: 0.7682976722717285 Accuracy: 0.796875\n",
      "Loss: 0.772591769695282 Accuracy: 0.8125\n",
      "Starting new epoch...\n",
      "Loss: 0.6447421312332153 Accuracy: 0.859375\n",
      "Loss: 0.6968187093734741 Accuracy: 0.8359375\n",
      "Loss: 0.7537185549736023 Accuracy: 0.8203125\n",
      "Loss: 0.6107734441757202 Accuracy: 0.875\n",
      "Starting new epoch...\n",
      "Loss: 0.7264737486839294 Accuracy: 0.8515625\n",
      "Loss: 0.7795343399047852 Accuracy: 0.828125\n",
      "Loss: 0.7245645523071289 Accuracy: 0.7734375\n",
      "Loss: 0.6707248687744141 Accuracy: 0.8203125\n",
      "Loss: 0.7560979723930359 Accuracy: 0.8125\n",
      "Starting new epoch...\n",
      "Loss: 0.6031014919281006 Accuracy: 0.8828125\n",
      "Loss: 0.6659247875213623 Accuracy: 0.8125\n",
      "Loss: 0.6160721778869629 Accuracy: 0.859375\n",
      "Loss: 0.6563146710395813 Accuracy: 0.8359375\n",
      "Loss: 0.7431622743606567 Accuracy: 0.8125\n",
      "Starting new epoch...\n",
      "Loss: 0.5450423955917358 Accuracy: 0.8671875\n",
      "Loss: 0.6287264823913574 Accuracy: 0.859375\n",
      "Loss: 0.754540741443634 Accuracy: 0.8046875\n",
      "Loss: 0.701468288898468 Accuracy: 0.796875\n",
      "Starting new epoch...\n",
      "Loss: 0.6914962530136108 Accuracy: 0.8125\n",
      "Loss: 0.6848291754722595 Accuracy: 0.8125\n",
      "Loss: 0.6188527941703796 Accuracy: 0.8203125\n",
      "Loss: 0.6214994788169861 Accuracy: 0.8515625\n",
      "Loss: 0.6569700837135315 Accuracy: 0.8125\n",
      "Starting new epoch...\n",
      "Loss: 0.6426328420639038 Accuracy: 0.8046875\n",
      "Loss: 0.6940510869026184 Accuracy: 0.8046875\n",
      "Loss: 0.6036283373832703 Accuracy: 0.828125\n",
      "Loss: 0.595472514629364 Accuracy: 0.828125\n",
      "Loss: 0.7199463844299316 Accuracy: 0.78125\n",
      "Starting new epoch...\n",
      "Loss: 0.5376243591308594 Accuracy: 0.84375\n",
      "Loss: 0.583916425704956 Accuracy: 0.828125\n",
      "Loss: 0.49940788745880127 Accuracy: 0.8828125\n",
      "Loss: 0.6415387392044067 Accuracy: 0.8203125\n",
      "Starting new epoch...\n",
      "Loss: 0.5324476957321167 Accuracy: 0.828125\n",
      "Loss: 0.4771950840950012 Accuracy: 0.8984375\n",
      "Loss: 0.5138624906539917 Accuracy: 0.84375\n",
      "Loss: 0.6608736515045166 Accuracy: 0.8046875\n",
      "Loss: 0.5695486068725586 Accuracy: 0.84375\n",
      "Starting new epoch...\n",
      "Loss: 0.5343868732452393 Accuracy: 0.859375\n",
      "Loss: 0.5377368330955505 Accuracy: 0.8828125\n",
      "Loss: 0.5623040795326233 Accuracy: 0.875\n",
      "Loss: 0.5963208675384521 Accuracy: 0.8515625\n",
      "Loss: 0.5111314058303833 Accuracy: 0.8515625\n",
      "Starting new epoch...\n",
      "Loss: 0.571621298789978 Accuracy: 0.859375\n",
      "Loss: 0.4908696413040161 Accuracy: 0.890625\n",
      "Loss: 0.4398941099643707 Accuracy: 0.8984375\n",
      "Loss: 0.39818263053894043 Accuracy: 0.90625\n",
      "Loss: 0.5974692702293396 Accuracy: 0.8359375\n",
      "Starting new epoch...\n",
      "Loss: 0.5130376815795898 Accuracy: 0.8828125\n",
      "Loss: 0.6198788285255432 Accuracy: 0.828125\n",
      "Loss: 0.4473675489425659 Accuracy: 0.8828125\n",
      "Loss: 0.5029308795928955 Accuracy: 0.875\n",
      "Starting new epoch...\n",
      "Loss: 0.49843183159828186 Accuracy: 0.90625\n",
      "Loss: 0.49531373381614685 Accuracy: 0.8828125\n",
      "Loss: 0.5789058208465576 Accuracy: 0.84375\n",
      "Loss: 0.5998997688293457 Accuracy: 0.828125\n",
      "Loss: 0.5215961933135986 Accuracy: 0.859375\n",
      "Starting new epoch...\n",
      "Loss: 0.5289885997772217 Accuracy: 0.8828125\n",
      "Loss: 0.5300900936126709 Accuracy: 0.8984375\n",
      "Loss: 0.5136544108390808 Accuracy: 0.8828125\n",
      "Loss: 0.6355056166648865 Accuracy: 0.8046875\n",
      "Loss: 0.6991831064224243 Accuracy: 0.8046875\n",
      "Starting new epoch...\n",
      "Loss: 0.45396262407302856 Accuracy: 0.890625\n",
      "Loss: 0.5438418388366699 Accuracy: 0.828125\n",
      "Loss: 0.4593328833580017 Accuracy: 0.875\n",
      "Loss: 0.6501981019973755 Accuracy: 0.8203125\n",
      "Starting new epoch...\n",
      "Loss: 0.5506665706634521 Accuracy: 0.875\n",
      "Loss: 0.5171464085578918 Accuracy: 0.84375\n",
      "Loss: 0.3854021728038788 Accuracy: 0.8984375\n",
      "Loss: 0.49419474601745605 Accuracy: 0.859375\n",
      "Loss: 0.5395282506942749 Accuracy: 0.8359375\n",
      "Starting new epoch...\n",
      "Loss: 0.5091922283172607 Accuracy: 0.84375\n",
      "Loss: 0.5503538846969604 Accuracy: 0.8515625\n",
      "Loss: 0.4304393231868744 Accuracy: 0.890625\n",
      "Loss: 0.5238305330276489 Accuracy: 0.875\n",
      "Loss: 0.5550464391708374 Accuracy: 0.8671875\n",
      "Starting new epoch...\n",
      "Loss: 0.4429072141647339 Accuracy: 0.8515625\n",
      "Loss: 0.5248528718948364 Accuracy: 0.8359375\n",
      "Loss: 0.578803300857544 Accuracy: 0.8359375\n",
      "Loss: 0.5602514743804932 Accuracy: 0.84375\n",
      "Starting new epoch...\n",
      "Loss: 0.47599953413009644 Accuracy: 0.890625\n",
      "Loss: 0.6816091537475586 Accuracy: 0.828125\n",
      "Loss: 0.4678589403629303 Accuracy: 0.890625\n",
      "Loss: 0.5116673111915588 Accuracy: 0.84375\n",
      "Loss: 0.44559282064437866 Accuracy: 0.8984375\n",
      "Starting new epoch...\n",
      "Loss: 0.4747859835624695 Accuracy: 0.890625\n",
      "Loss: 0.5131677389144897 Accuracy: 0.84375\n",
      "Loss: 0.40750551223754883 Accuracy: 0.8828125\n",
      "Loss: 0.44797348976135254 Accuracy: 0.84375\n",
      "Loss: 0.397042840719223 Accuracy: 0.90625\n",
      "Starting new epoch...\n",
      "Loss: 0.44417381286621094 Accuracy: 0.859375\n",
      "Loss: 0.5471630692481995 Accuracy: 0.859375\n",
      "Loss: 0.4771600365638733 Accuracy: 0.84375\n",
      "Loss: 0.4746924638748169 Accuracy: 0.859375\n",
      "Starting new epoch...\n",
      "Loss: 0.5264875888824463 Accuracy: 0.84375\n",
      "Loss: 0.5654786825180054 Accuracy: 0.8203125\n",
      "Loss: 0.4338527321815491 Accuracy: 0.859375\n",
      "Loss: 0.4188859462738037 Accuracy: 0.890625\n",
      "Loss: 0.49883249402046204 Accuracy: 0.8515625\n",
      "Starting new epoch...\n",
      "Loss: 0.3881298005580902 Accuracy: 0.890625\n",
      "Loss: 0.49737852811813354 Accuracy: 0.859375\n",
      "Loss: 0.4228968620300293 Accuracy: 0.890625\n",
      "Loss: 0.5740252733230591 Accuracy: 0.859375\n",
      "Loss: 0.4827619194984436 Accuracy: 0.828125\n",
      "Starting new epoch...\n",
      "Loss: 0.4954468011856079 Accuracy: 0.828125\n",
      "Loss: 0.44128066301345825 Accuracy: 0.84375\n",
      "Loss: 0.38223302364349365 Accuracy: 0.90625\n",
      "Loss: 0.3670027554035187 Accuracy: 0.9140625\n",
      "Loss: 0.4096756875514984 Accuracy: 0.859375\n",
      "Starting new epoch...\n",
      "Loss: 0.42089852690696716 Accuracy: 0.890625\n",
      "Loss: 0.40399354696273804 Accuracy: 0.8984375\n",
      "Loss: 0.45054325461387634 Accuracy: 0.875\n",
      "Loss: 0.4493257999420166 Accuracy: 0.8515625\n",
      "Starting new epoch...\n",
      "Loss: 0.46761554479599 Accuracy: 0.8515625\n",
      "Loss: 0.40902215242385864 Accuracy: 0.90625\n",
      "Loss: 0.4552391767501831 Accuracy: 0.90625\n"
     ]
    },
    {
     "name": "stdout",
     "output_type": "stream",
     "text": [
      "Loss: 0.49213236570358276 Accuracy: 0.859375\n",
      "Loss: 0.4551517963409424 Accuracy: 0.8671875\n",
      "Starting new epoch...\n",
      "Loss: 0.4276880919933319 Accuracy: 0.8671875\n",
      "Loss: 0.520900547504425 Accuracy: 0.828125\n",
      "Loss: 0.4713747501373291 Accuracy: 0.890625\n",
      "Loss: 0.4573105573654175 Accuracy: 0.8671875\n",
      "Loss: 0.4113032817840576 Accuracy: 0.8671875\n",
      "Starting new epoch...\n",
      "Loss: 0.35696306824684143 Accuracy: 0.90625\n",
      "Loss: 0.3782797157764435 Accuracy: 0.8984375\n",
      "Loss: 0.4070325195789337 Accuracy: 0.890625\n",
      "Loss: 0.4992952048778534 Accuracy: 0.8828125\n",
      "Starting new epoch...\n",
      "Loss: 0.40881994366645813 Accuracy: 0.875\n",
      "Loss: 0.3831292390823364 Accuracy: 0.90625\n",
      "Loss: 0.44885918498039246 Accuracy: 0.8515625\n",
      "Loss: 0.35818713903427124 Accuracy: 0.890625\n",
      "Loss: 0.4218575954437256 Accuracy: 0.8828125\n",
      "Starting new epoch...\n",
      "Loss: 0.49110549688339233 Accuracy: 0.859375\n",
      "Loss: 0.6781426668167114 Accuracy: 0.7734375\n",
      "Loss: 0.4537472128868103 Accuracy: 0.8828125\n",
      "Loss: 0.4701896905899048 Accuracy: 0.8359375\n",
      "Loss: 0.5179437398910522 Accuracy: 0.8515625\n",
      "Starting new epoch...\n",
      "Loss: 0.45531928539276123 Accuracy: 0.875\n",
      "Loss: 0.47269463539123535 Accuracy: 0.875\n",
      "Loss: 0.35211318731307983 Accuracy: 0.890625\n",
      "Loss: 0.5286552906036377 Accuracy: 0.84375\n",
      "Starting new epoch...\n",
      "Loss: 0.45766907930374146 Accuracy: 0.8984375\n",
      "Loss: 0.36844104528427124 Accuracy: 0.8828125\n",
      "Loss: 0.4606271982192993 Accuracy: 0.8671875\n",
      "Loss: 0.4042358696460724 Accuracy: 0.875\n",
      "Loss: 0.38897961378097534 Accuracy: 0.890625\n",
      "Starting new epoch...\n",
      "Loss: 0.38023892045021057 Accuracy: 0.8828125\n"
     ]
    }
   ],
   "source": [
    "losses = []\n",
    "accs = []\n",
    "for step in range(train_steps):\n",
    "    img_batch, lbl_batch = data.next_batch()\n",
    "    with tf.GradientTape() as tape:\n",
    "        layer_1 = tf.add(tf.matmul(img_batch, weights[0]), biases[0])\n",
    "        layer_2 = tf.add(tf.matmul(layer_1, weights[1]), biases[1])\n",
    "        layer_3 = tf.add(tf.matmul(layer_2, weights[2]), biases[2])\n",
    "        layer_4 = tf.add(tf.matmul(layer_3, weights[3]), biases[3])\n",
    "        logits = tf.matmul(layer_4,weights[4] ) + biases[4]\n",
    "        xent = tf.reduce_mean(tf.nn.sparse_softmax_cross_entropy_with_logits(\n",
    "            logits=logits, labels=lbl_batch))\n",
    "    var_list = [h1,h2,h3,h4,h_out,b1,b2,b3,b4,b_out]\n",
    "    grads = tape.gradient(xent, var_list)\n",
    "    h1.assign_sub(learning_rate * grads[0])\n",
    "    h2.assign_sub(learning_rate * grads[1])\n",
    "    h3.assign_sub(learning_rate * grads[2])\n",
    "    h4.assign_sub(learning_rate * grads[3])\n",
    "    h_out.assign_sub(learning_rate * grads[4])\n",
    "    b1.assign_sub(learning_rate * grads[5])\n",
    "    b2.assign_sub(learning_rate * grads[6])\n",
    "    b3.assign_sub(learning_rate * grads[7])\n",
    "    b4.assign_sub(learning_rate * grads[8])\n",
    "    b_out.assign_sub(learning_rate * grads[9])\n",
    "    \n",
    "    if not step % 100:\n",
    "        preds = tf.argmax(logits, axis=1, output_type=tf.int32)\n",
    "        acc = tf.reduce_mean(tf.cast(tf.equal(preds, lbl_batch),\n",
    "                             tf.float32))\n",
    "        losses.append(xent)\n",
    "        accs.append(acc)\n",
    "        print(\"Loss: {} Accuracy: {}\".format(xent, acc))"
   ]
  },
  {
   "cell_type": "markdown",
   "metadata": {},
   "source": [
    "# Testing:"
   ]
  },
  {
   "cell_type": "code",
   "execution_count": 26,
   "metadata": {},
   "outputs": [
    {
     "name": "stdout",
     "output_type": "stream",
     "text": [
      "Accuracy: 88%\n"
     ]
    }
   ],
   "source": [
    "test_layer1 = tf.add(tf.matmul(data.test_data, weights[0]), biases[0])\n",
    "test_layer2 = tf.add(tf.matmul(test_layer1, weights[1]), biases[1])\n",
    "test_layer3 = tf.add(tf.matmul(test_layer2, weights[2]), biases[2])\n",
    "test_layer4 = tf.add(tf.matmul(test_layer3, weights[3]), biases[3])\n",
    "test_out = tf.matmul(test_layer4, weights[4]) + biases[4]\n",
    "test_preds = tf.argmax(test_out, axis=1, output_type=tf.int32)\n",
    "test_acc = tf.reduce_mean(tf.cast(tf.equal(test_preds, data.test_labels),\n",
    "                             tf.float32))\n",
    "print('Accuracy: ', end='')\n",
    "print(int(test_acc.numpy()*100), end='')\n",
    "print(\"%\")"
   ]
  },
  {
   "cell_type": "markdown",
   "metadata": {},
   "source": [
    "# Visualizing Loss and Accuracy: "
   ]
  },
  {
   "cell_type": "code",
   "execution_count": 27,
   "metadata": {},
   "outputs": [
    {
     "data": {
      "image/png": "[encoded data removed]",
      "text/plain": [
       "<Figure size 432x288 with 1 Axes>"
      ]
     },
     "metadata": {
      "needs_background": "light"
     },
     "output_type": "display_data"
    }
   ],
   "source": [
    "plt.plot(losses, \"r\", label = 'loss')\n",
    "plt.plot(accs, \"g\", label = 'accuracy')\n",
    "plt.plot(test_acc, \"*\", label = 'test accuracy')\n",
    "plt.legend(loc = 'upper right')\n",
    "plt.show()"
   ]
  },
  {
   "cell_type": "code",
   "execution_count": null,
   "metadata": {},
   "outputs": [],
   "source": []
  }
 ],
 "metadata": {
  "kernelspec": {
   "display_name": "Python 3",
   "language": "python",
   "name": "python3"
  },
  "language_info": {
   "codemirror_mode": {
    "name": "ipython",
    "version": 3
   },
   "file_extension": ".py",
   "mimetype": "text/x-python",
   "name": "python",
   "nbconvert_exporter": "python",
   "pygments_lexer": "ipython3",
   "version": "3.7.4"
  }
 },
 "nbformat": 4,
 "nbformat_minor": 2
}
